{
 "cells": [
  {
   "cell_type": "code",
   "execution_count": 1,
   "metadata": {},
   "outputs": [],
   "source": [
    "# import required packages \n",
    "import os\n",
    "import cv2\n",
    "import pandas as pd\n",
    "import numpy as np\n",
    "import glob\n",
    "import math\n",
    "import matplotlib.pyplot as plt"
   ]
  },
  {
   "cell_type": "markdown",
   "metadata": {},
   "source": [
    "# Global Variables"
   ]
  },
  {
   "cell_type": "code",
   "execution_count": 2,
   "metadata": {},
   "outputs": [],
   "source": [
    "train_img_dir = \"../flower_classification/training/\"\n",
    "test_img_dir = \"../flower_classification/testing/\"\n",
    "train_label_dir = \"../flower_classification/training_label.csv\""
   ]
  },
  {
   "cell_type": "markdown",
   "metadata": {},
   "source": [
    "# 1. Load Training Data and Testing Data"
   ]
  },
  {
   "cell_type": "markdown",
   "metadata": {},
   "source": [
    "### 1.1 Define function for loading data"
   ]
  },
  {
   "cell_type": "code",
   "execution_count": 3,
   "metadata": {},
   "outputs": [],
   "source": [
    "def load_training_imgs(train_imgs_dir, debug_mode=False):\n",
    "    \"\"\"load training images from proivided file directory\n",
    "    \n",
    "    Parameters\n",
    "    ----------\n",
    "    train_imgs_dir : str\n",
    "        Relative or absolute file path for the training images\n",
    "    debug_mode : boolean\n",
    "        Debugging mode flag. Set to False as default. Printing intermediate results\n",
    "        on the consle if set to True.\n",
    "        \n",
    "    Returns\n",
    "    -------\n",
    "    train_imgs_name : list\n",
    "        a list of strings of file name without extension that corresponds to the image \n",
    "        file. Eg. [image_08108，...,image_01075]\n",
    "    train_imgs : list\n",
    "        a list of training images. \n",
    "    \"\"\"    \n",
    "    \n",
    "    train_data_path = os.path.join(train_imgs_dir,'*g')\n",
    "    train_files = glob.glob(train_data_path)\n",
    "    train_imgs = []\n",
    "    train_imgs_name = []\n",
    "    \n",
    "    if debug_mode:\n",
    "        print(\"train_data_path\", train_data_path)\n",
    "        print(\"train_files length\", len(train_files))\n",
    "        \n",
    "    for i,f1 in enumerate(train_files):\n",
    "        img_name_without_extension = os.path.splitext(os.path.basename(f1))[0]\n",
    "        \n",
    "        if debug_mode:\n",
    "            print((\"image name {} without extension : {}\").format(i, img_name_without_extension))        \n",
    "        train_imgs_name.append(img_name_without_extension)\n",
    "        \n",
    "        img = cv2.imread(f1)\n",
    "        train_imgs.append(img)\n",
    "        \n",
    "    if debug_mode:\n",
    "        print(\"train image names length\", len(train_imgs_name))\n",
    "        print(\"train image length\", len(train_imgs))\n",
    "        \n",
    "    return train_imgs_name, train_imgs"
   ]
  },
  {
   "cell_type": "code",
   "execution_count": 4,
   "metadata": {},
   "outputs": [],
   "source": [
    "def load_testing_imgs(test_imgs_dir, debug_mode=False):\n",
    "    \"\"\"load testing images from proivided file directory\n",
    "    \n",
    "    Parameters\n",
    "    ----------\n",
    "    test_imgs_dir : str\n",
    "        Relative or absolute file path for the testing images.\n",
    "    debug_mode : boolean\n",
    "        Debugging mode flag. Set to False as default. Printing intermediate results\n",
    "        on the consle if set to True.\n",
    "        \n",
    "    Returns\n",
    "    -------\n",
    "    test_imgs : list\n",
    "        a list of training images. \n",
    "    \"\"\"    \n",
    "    \n",
    "    test_data_path = os.path.join(test_imgs_dir,'*g')\n",
    "    test_files = glob.glob(test_data_path)\n",
    "    test_imgs = []\n",
    "    \n",
    "    if debug_mode:\n",
    "        print(\"test_data_path\", test_data_path)\n",
    "        print(\"test_files length\", len(test_files))\n",
    "        \n",
    "    for i,f1 in enumerate(test_files):     \n",
    "        img = cv2.imread(f1)\n",
    "        test_imgs.append(img)\n",
    "        \n",
    "    if debug_mode:\n",
    "        print(\"test image length\", len(test_imgs))\n",
    "        \n",
    "    return test_imgs"
   ]
  },
  {
   "cell_type": "code",
   "execution_count": 5,
   "metadata": {},
   "outputs": [],
   "source": [
    "def generate_indexed_train_labels(train_imgs_name, train_label_dir, debug_mode=False):\n",
    "    \"\"\"generate train labels with correct indexing corresponding to the list of training images\n",
    "    \n",
    "    Parameters\n",
    "    ----------\n",
    "    train_imgs_name : list\n",
    "        List of the training images names without extension.\n",
    "    train_label_dir : str\n",
    "        Relative or absolute file path for the training labels csv file.\n",
    "    debug_mode : boolean\n",
    "        Debugging mode flag. Set to False as default. Printing intermediate results\n",
    "        on the consle if set to True.\n",
    "        \n",
    "    Returns\n",
    "    -------\n",
    "    labels : list\n",
    "        a list of matched train labels.\n",
    "    \"\"\"\n",
    "    df_labels = pd.read_csv(train_label_dir)\n",
    "    if debug_mode:\n",
    "        print(df_labels.head())\n",
    "    labels = []\n",
    "    for name in train_imgs_name:\n",
    "        row = df_labels.loc[df_labels['Id'] == name]\n",
    "        if debug_mode:\n",
    "            print(\"File name without extension\", name)\n",
    "            print(row)\n",
    "        assert name == row['Id'].values[0]\n",
    "        label = row['Category'].values[0]\n",
    "        labels.append(label)\n",
    "        \n",
    "    return labels"
   ]
  },
  {
   "cell_type": "markdown",
   "metadata": {},
   "source": [
    "### 1.2 Load data"
   ]
  },
  {
   "cell_type": "code",
   "execution_count": 6,
   "metadata": {},
   "outputs": [],
   "source": [
    "train_imgs_names, train_imgs = load_training_imgs(train_img_dir)"
   ]
  },
  {
   "cell_type": "code",
   "execution_count": 7,
   "metadata": {},
   "outputs": [],
   "source": [
    "test_imgs = load_testing_imgs(test_img_dir)"
   ]
  },
  {
   "cell_type": "code",
   "execution_count": 8,
   "metadata": {},
   "outputs": [],
   "source": [
    "labels = generate_indexed_train_labels(train_imgs_names, train_label_dir)"
   ]
  },
  {
   "cell_type": "code",
   "execution_count": 9,
   "metadata": {},
   "outputs": [
    {
     "name": "stdout",
     "output_type": "stream",
     "text": [
      "image_07088\n"
     ]
    },
    {
     "data": {
      "text/plain": [
       "<matplotlib.image.AxesImage at 0x11f08df50>"
      ]
     },
     "execution_count": 9,
     "metadata": {},
     "output_type": "execute_result"
    },
    {
     "data": {
      "image/png": "[encoded data removed]",
      "text/plain": [
       "<Figure size 432x288 with 1 Axes>"
      ]
     },
     "metadata": {
      "needs_background": "light"
     },
     "output_type": "display_data"
    }
   ],
   "source": [
    "test_i = train_imgs[0]\n",
    "test_i_rgb = cv2.cvtColor(test_i, cv2.COLOR_BGR2GRAY)\n",
    "print(train_imgs_names[0])\n",
    "\n",
    "plt.imshow(test_i_rgb)"
   ]
  },
  {
   "cell_type": "markdown",
   "metadata": {},
   "source": [
    "### 1.3 Compute Size information of the training sets"
   ]
  },
  {
   "cell_type": "code",
   "execution_count": 10,
   "metadata": {},
   "outputs": [],
   "source": [
    "def image_size_info(train_imgs):\n",
    "    heights = [img.shape[0] for img in train_imgs]\n",
    "    widths = [img.shape[1] for img in train_imgs] \n",
    "    print(\"Average Height: \" + str(np.mean(heights)))\n",
    "    print(\"Max Height: \" + str(max(heights)))\n",
    "    print(\"Min Height: \" + str(min(heights)))\n",
    "    print('\\n')\n",
    "    print(\"Average Width: \" + str(np.mean(widths)))\n",
    "    print(\"Max Width: \" + str(max(widths)))\n",
    "    print(\"Min Width: \" + str(min(widths)))"
   ]
  },
  {
   "cell_type": "code",
   "execution_count": 32,
   "metadata": {},
   "outputs": [
    {
     "name": "stdout",
     "output_type": "stream",
     "text": [
      "Average Height: 534.3276666666667\n",
      "Max Height: 1168\n",
      "Min Height: 500\n",
      "\n",
      "\n",
      "Average Width: 630.6151666666667\n",
      "Max Width: 1024\n",
      "Min Width: 500\n"
     ]
    }
   ],
   "source": [
    "image_size_info(train_imgs)\n",
    "\n",
    "# For now set the size to (500, 500)\n",
    "SIZE = (250, 250)"
   ]
  },
  {
   "cell_type": "markdown",
   "metadata": {},
   "source": [
    "# 2 Pipeline Steps"
   ]
  },
  {
   "cell_type": "code",
   "execution_count": 33,
   "metadata": {},
   "outputs": [],
   "source": [
    "from sklearn.base import BaseEstimator, TransformerMixin"
   ]
  },
  {
   "cell_type": "markdown",
   "metadata": {},
   "source": [
    "### 2.1 RGB2Gray Transformer Step"
   ]
  },
  {
   "cell_type": "code",
   "execution_count": 34,
   "metadata": {},
   "outputs": [],
   "source": [
    "class RGB2GrayTransformer(TransformerMixin):\n",
    "    \"\"\"\n",
    "    Convert the RGB images to grayscale\n",
    "    \"\"\"\n",
    " \n",
    "    def __init__(self):\n",
    "        pass\n",
    " \n",
    "    def fit(self, X, y=None):\n",
    "        \"\"\"returns itself\"\"\"\n",
    "        return self\n",
    " \n",
    "    def transform(self, X, y=None):\n",
    "        X_transformed = [cv2.cvtColor(img, cv2.COLOR_BGR2GRAY) for img in X]\n",
    "        return X_transformed"
   ]
  },
  {
   "cell_type": "markdown",
   "metadata": {},
   "source": [
    "### 2.2 Resizing Step"
   ]
  },
  {
   "cell_type": "code",
   "execution_count": 35,
   "metadata": {},
   "outputs": [],
   "source": [
    "class ResizingTransformer(TransformerMixin):\n",
    "    \"\"\"\n",
    "    Resize the image to a given size\n",
    "    \"\"\"\n",
    " \n",
    "    def __init__(self, size):\n",
    "        self.size = size\n",
    "        pass\n",
    " \n",
    "    def fit(self, X, y=None):\n",
    "        \"\"\"returns itself\"\"\"\n",
    "        return self\n",
    " \n",
    "    def transform(self, X, y=None):\n",
    "        X_transformed = [cv2.resize(img, self.size) for img in X]\n",
    "        return X_transformed"
   ]
  },
  {
   "cell_type": "markdown",
   "metadata": {},
   "source": [
    "### 2.3 HoG Feature Extractor"
   ]
  },
  {
   "cell_type": "code",
   "execution_count": 36,
   "metadata": {},
   "outputs": [],
   "source": [
    "class HoGTransformer(TransformerMixin):\n",
    "    \"\"\"\n",
    "    Extract HoG features\n",
    "    \"\"\"  \n",
    "    def __init__(self, img_size, cell_size=(32, 32), block_size=(2,2), nbins = 9):\n",
    "        self.img_size = img_size\n",
    "        self.cell_size = cell_size\n",
    "        self.block_size = block_size\n",
    "        self.nbins = nbins\n",
    "        pass\n",
    " \n",
    "    def fit(self, X, y=None):\n",
    "        \"\"\"returns itself\"\"\"\n",
    "        return self\n",
    " \n",
    "    def transform(self, X, y=None):\n",
    "        hog = cv2.HOGDescriptor(_winSize=(self.img_size[1] // self.cell_size[1] * self.cell_size[1],\n",
    "                                  self.img_size[0] // self.cell_size[0] * self.cell_size[0]),\n",
    "                        _blockSize=(self.block_size[1] * self.cell_size[1],\n",
    "                                    self.block_size[0] * self.cell_size[0]),\n",
    "                        _blockStride=(self.cell_size[1], self.cell_size[0]),\n",
    "                        _cellSize=(self.cell_size[1], self.cell_size[0]),\n",
    "                        _nbins=self.nbins)\n",
    "        \n",
    "        hog_feats = [(hog.compute(img)).flatten() for img in X]    \n",
    "        X_transformed = np.stack(hog_feats, axis = 0)\n",
    "        \n",
    "        return X_transformed"
   ]
  },
  {
   "cell_type": "code",
   "execution_count": null,
   "metadata": {},
   "outputs": [],
   "source": []
  },
  {
   "cell_type": "code",
   "execution_count": null,
   "metadata": {},
   "outputs": [],
   "source": []
  },
  {
   "cell_type": "markdown",
   "metadata": {},
   "source": [
    "# 3. Build Pipeline"
   ]
  },
  {
   "cell_type": "code",
   "execution_count": 37,
   "metadata": {},
   "outputs": [],
   "source": [
    "from sklearn.model_selection import GridSearchCV\n",
    "from sklearn.pipeline import Pipeline\n",
    "from sklearn.pipeline import make_pipeline\n",
    "from sklearn.model_selection import cross_val_score\n",
    "from sklearn.svm import SVC\n",
    "from sklearn.model_selection import train_test_split"
   ]
  },
  {
   "cell_type": "code",
   "execution_count": 38,
   "metadata": {},
   "outputs": [],
   "source": [
    "pipeline = Pipeline([\n",
    "    ('rgb2graytransformer', RGB2GrayTransformer()),\n",
    "    ('resizetransformer', ResizingTransformer(SIZE)),\n",
    "    ('hogtransformer', HoGTransformer(SIZE))\n",
    "])"
   ]
  },
  {
   "cell_type": "code",
   "execution_count": 39,
   "metadata": {},
   "outputs": [],
   "source": [
    "X_transformed = pipeline.fit_transform(train_imgs, labels)"
   ]
  },
  {
   "cell_type": "code",
   "execution_count": 40,
   "metadata": {},
   "outputs": [
    {
     "name": "stdout",
     "output_type": "stream",
     "text": [
      "(6000, 1296)\n"
     ]
    }
   ],
   "source": [
    "print(X_transformed.shape)"
   ]
  },
  {
   "cell_type": "code",
   "execution_count": 65,
   "metadata": {},
   "outputs": [],
   "source": [
    "param_grid = {'C': [0.01, 0.1, 1, 10]}"
   ]
  },
  {
   "cell_type": "code",
   "execution_count": 68,
   "metadata": {},
   "outputs": [],
   "source": [
    "svc = SVC()\n",
    "grid_search = GridSearchCV(svc, cv=5, param_grid=param_grid, verbose=10)"
   ]
  },
  {
   "cell_type": "code",
   "execution_count": 69,
   "metadata": {},
   "outputs": [
    {
     "name": "stdout",
     "output_type": "stream",
     "text": [
      "Fitting 5 folds for each of 4 candidates, totalling 20 fits\n",
      "[CV] C=0.01 ..........................................................\n"
     ]
    },
    {
     "name": "stderr",
     "output_type": "stream",
     "text": [
      "[Parallel(n_jobs=1)]: Using backend SequentialBackend with 1 concurrent workers.\n"
     ]
    },
    {
     "name": "stdout",
     "output_type": "stream",
     "text": [
      "[CV] .............................. C=0.01, score=0.032, total= 1.2min\n",
      "[CV] C=0.01 ..........................................................\n"
     ]
    },
    {
     "name": "stderr",
     "output_type": "stream",
     "text": [
      "[Parallel(n_jobs=1)]: Done   1 out of   1 | elapsed:  1.2min remaining:    0.0s\n"
     ]
    },
    {
     "name": "stdout",
     "output_type": "stream",
     "text": [
      "[CV] .............................. C=0.01, score=0.033, total= 1.2min\n",
      "[CV] C=0.01 ..........................................................\n"
     ]
    },
    {
     "name": "stderr",
     "output_type": "stream",
     "text": [
      "[Parallel(n_jobs=1)]: Done   2 out of   2 | elapsed:  2.5min remaining:    0.0s\n"
     ]
    },
    {
     "name": "stdout",
     "output_type": "stream",
     "text": [
      "[CV] .............................. C=0.01, score=0.033, total= 1.2min\n",
      "[CV] C=0.01 ..........................................................\n"
     ]
    },
    {
     "name": "stderr",
     "output_type": "stream",
     "text": [
      "[Parallel(n_jobs=1)]: Done   3 out of   3 | elapsed:  3.7min remaining:    0.0s\n"
     ]
    },
    {
     "name": "stdout",
     "output_type": "stream",
     "text": [
      "[CV] .............................. C=0.01, score=0.033, total= 1.2min\n",
      "[CV] C=0.01 ..........................................................\n"
     ]
    },
    {
     "name": "stderr",
     "output_type": "stream",
     "text": [
      "[Parallel(n_jobs=1)]: Done   4 out of   4 | elapsed:  4.9min remaining:    0.0s\n"
     ]
    },
    {
     "name": "stdout",
     "output_type": "stream",
     "text": [
      "[CV] .............................. C=0.01, score=0.033, total= 1.2min\n",
      "[CV] C=0.1 ...........................................................\n"
     ]
    },
    {
     "name": "stderr",
     "output_type": "stream",
     "text": [
      "[Parallel(n_jobs=1)]: Done   5 out of   5 | elapsed:  6.1min remaining:    0.0s\n"
     ]
    },
    {
     "name": "stdout",
     "output_type": "stream",
     "text": [
      "[CV] ............................... C=0.1, score=0.068, total= 1.2min\n",
      "[CV] C=0.1 ...........................................................\n"
     ]
    },
    {
     "name": "stderr",
     "output_type": "stream",
     "text": [
      "[Parallel(n_jobs=1)]: Done   6 out of   6 | elapsed:  7.3min remaining:    0.0s\n"
     ]
    },
    {
     "name": "stdout",
     "output_type": "stream",
     "text": [
      "[CV] ............................... C=0.1, score=0.068, total= 1.2min\n",
      "[CV] C=0.1 ...........................................................\n"
     ]
    },
    {
     "name": "stderr",
     "output_type": "stream",
     "text": [
      "[Parallel(n_jobs=1)]: Done   7 out of   7 | elapsed:  8.5min remaining:    0.0s\n"
     ]
    },
    {
     "name": "stdout",
     "output_type": "stream",
     "text": [
      "[CV] ............................... C=0.1, score=0.066, total= 1.2min\n",
      "[CV] C=0.1 ...........................................................\n"
     ]
    },
    {
     "name": "stderr",
     "output_type": "stream",
     "text": [
      "[Parallel(n_jobs=1)]: Done   8 out of   8 | elapsed:  9.7min remaining:    0.0s\n"
     ]
    },
    {
     "name": "stdout",
     "output_type": "stream",
     "text": [
      "[CV] ............................... C=0.1, score=0.070, total= 1.2min\n",
      "[CV] C=0.1 ...........................................................\n"
     ]
    },
    {
     "name": "stderr",
     "output_type": "stream",
     "text": [
      "[Parallel(n_jobs=1)]: Done   9 out of   9 | elapsed: 11.0min remaining:    0.0s\n"
     ]
    },
    {
     "name": "stdout",
     "output_type": "stream",
     "text": [
      "[CV] ............................... C=0.1, score=0.068, total= 1.2min\n",
      "[CV] C=1 .............................................................\n",
      "[CV] ................................. C=1, score=0.277, total= 1.2min\n",
      "[CV] C=1 .............................................................\n",
      "[CV] ................................. C=1, score=0.258, total= 1.2min\n",
      "[CV] C=1 .............................................................\n",
      "[CV] ................................. C=1, score=0.244, total= 1.2min\n",
      "[CV] C=1 .............................................................\n",
      "[CV] ................................. C=1, score=0.268, total= 1.2min\n",
      "[CV] C=1 .............................................................\n",
      "[CV] ................................. C=1, score=0.264, total= 1.2min\n",
      "[CV] C=10 ............................................................\n",
      "[CV] ................................ C=10, score=0.314, total= 1.3min\n",
      "[CV] C=10 ............................................................\n",
      "[CV] ................................ C=10, score=0.301, total= 1.3min\n",
      "[CV] C=10 ............................................................\n",
      "[CV] ................................ C=10, score=0.282, total= 1.3min\n",
      "[CV] C=10 ............................................................\n",
      "[CV] ................................ C=10, score=0.312, total= 1.3min\n",
      "[CV] C=10 ............................................................\n",
      "[CV] ................................ C=10, score=0.312, total= 1.3min\n"
     ]
    },
    {
     "name": "stderr",
     "output_type": "stream",
     "text": [
      "[Parallel(n_jobs=1)]: Done  20 out of  20 | elapsed: 25.0min finished\n"
     ]
    },
    {
     "data": {
      "text/plain": [
       "GridSearchCV(cv=5, error_score=nan,\n",
       "             estimator=SVC(C=1.0, break_ties=False, cache_size=200,\n",
       "                           class_weight=None, coef0=0.0,\n",
       "                           decision_function_shape='ovr', degree=3,\n",
       "                           gamma='scale', kernel='rbf', max_iter=-1,\n",
       "                           probability=False, random_state=None, shrinking=True,\n",
       "                           tol=0.001, verbose=False),\n",
       "             iid='deprecated', n_jobs=None,\n",
       "             param_grid={'C': [0.01, 0.1, 1, 10]}, pre_dispatch='2*n_jobs',\n",
       "             refit=True, return_train_score=False, scoring=None, verbose=10)"
      ]
     },
     "execution_count": 69,
     "metadata": {},
     "output_type": "execute_result"
    }
   ],
   "source": [
    "grid_search.fit(X_transformed, labels)"
   ]
  },
  {
   "cell_type": "code",
   "execution_count": 59,
   "metadata": {},
   "outputs": [
    {
     "ename": "AttributeError",
     "evalue": "'dict' object has no attribute 'head'",
     "output_type": "error",
     "traceback": [
      "\u001b[0;31m---------------------------------------------------------------------------\u001b[0m",
      "\u001b[0;31mAttributeError\u001b[0m                            Traceback (most recent call last)",
      "\u001b[0;32m<ipython-input-59-1e291bdafbf9>\u001b[0m in \u001b[0;36m<module>\u001b[0;34m\u001b[0m\n\u001b[0;32m----> 1\u001b[0;31m \u001b[0mgrid_search\u001b[0m\u001b[0;34m.\u001b[0m\u001b[0mcv_results_\u001b[0m\u001b[0;34m.\u001b[0m\u001b[0mhead\u001b[0m\u001b[0;34m(\u001b[0m\u001b[0;34m)\u001b[0m\u001b[0;34m\u001b[0m\u001b[0;34m\u001b[0m\u001b[0m\n\u001b[0m",
      "\u001b[0;31mAttributeError\u001b[0m: 'dict' object has no attribute 'head'"
     ]
    }
   ],
   "source": [
    "print(grid_search.cv_results_)"
   ]
  },
  {
   "cell_type": "code",
   "execution_count": null,
   "metadata": {},
   "outputs": [],
   "source": []
  },
  {
   "cell_type": "code",
   "execution_count": null,
   "metadata": {},
   "outputs": [],
   "source": []
  },
  {
   "cell_type": "code",
   "execution_count": null,
   "metadata": {},
   "outputs": [],
   "source": []
  }
 ],
 "metadata": {
  "kernelspec": {
   "display_name": "Python 3",
   "language": "python",
   "name": "python3"
  },
  "language_info": {
   "codemirror_mode": {
    "name": "ipython",
    "version": 3
   },
   "file_extension": ".py",
   "mimetype": "text/x-python",
   "name": "python",
   "nbconvert_exporter": "python",
   "pygments_lexer": "ipython3",
   "version": "3.7.4"
  }
 },
 "nbformat": 4,
 "nbformat_minor": 4
}
